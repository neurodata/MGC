{
 "cells": [
  {
   "cell_type": "markdown",
   "metadata": {},
   "source": [
    "# 2-Sample Tests Power over Increasing Dimension"
   ]
  },
  {
   "cell_type": "markdown",
   "metadata": {},
   "source": [
    "These are same useful functions to import. Since we are calculating the statistical power over all the tests for all the simulations, we can just use a wild card import from the respective modules"
   ]
  },
  {
   "cell_type": "code",
   "execution_count": 27,
   "metadata": {},
   "outputs": [],
   "source": [
    "import sys, os\n",
    "import multiprocessing as mp\n",
    "from joblib import Parallel, delayed\n",
    "\n",
    "import numpy as np\n",
    "import matplotlib.pyplot as plt\n",
    "\n",
    "from benchmarks import power_2samp_dimension\n",
    "from mgc.independence import CCA, Dcorr, HHG, Hsic, RV, MGC\n",
    "from mgc.sims import *\n",
    "\n",
    "sys.path.append(os.path.realpath('..'))"
   ]
  },
  {
   "cell_type": "code",
   "execution_count": 28,
   "metadata": {},
   "outputs": [],
   "source": [
    "import seaborn as sns\n",
    "sns.color_palette('Set1')\n",
    "sns.set(color_codes=True, style='white', context='talk', font_scale=2)\n",
    "sns.set_palette(sns.color_palette(['c', 'm', 'y', 'k']))"
   ]
  },
  {
   "cell_type": "markdown",
   "metadata": {},
   "source": [
    "These are some constants that are used in this notebook. If running these notebook, please only manipulate these constants if you are not running more tests. They define the sample sizes tested upon and the number of replications. The simulations tested over and the independence tests tested over are defined also."
   ]
  },
  {
   "cell_type": "code",
   "execution_count": 29,
   "metadata": {},
   "outputs": [],
   "source": [
    "from rpy2.robjects import Formula, numpy2ri\n",
    "from rpy2.robjects.packages import importr\n",
    "\n",
    "\n",
    "class Manova:\n",
    "    r\"\"\"\n",
    "    Wrapper of R MANOVA\n",
    "    \"\"\"\n",
    "    def __init__(self):\n",
    "        self.stats = importr('stats')\n",
    "        self.r_base = importr('base')\n",
    "        \n",
    "        numpy2ri.activate()\n",
    "\n",
    "        self.formula = Formula('X ~ Y')\n",
    "        self.env = self.formula.environment\n",
    "\n",
    "    def _statistic(self, x, y):\n",
    "        r\"\"\"\n",
    "        Helper function to calculate the test statistic\n",
    "        \"\"\"\n",
    "        self.env['Y'] = y\n",
    "        self.env['X'] = x\n",
    "\n",
    "        stat = self.r_base.summary(self.stats.manova(self.formula), test=\"Pillai\")[3][4]\n",
    "\n",
    "        return stat"
   ]
  },
  {
   "cell_type": "code",
   "execution_count": 30,
   "metadata": {},
   "outputs": [],
   "source": [
    "POWER_REPS = 5"
   ]
  },
  {
   "cell_type": "code",
   "execution_count": 5,
   "metadata": {},
   "outputs": [],
   "source": [
    "simulations = [\n",
    "    linear,\n",
    "    exponential,\n",
    "    cubic,\n",
    "    joint_normal,\n",
    "    step,\n",
    "    quadratic,\n",
    "    w_shaped,\n",
    "    spiral,\n",
    "    uncorrelated_bernoulli,\n",
    "    logarithmic,\n",
    "    fourth_root,\n",
    "    sin_four_pi,\n",
    "    sin_sixteen_pi,\n",
    "    square,\n",
    "    two_parabolas,\n",
    "    circle,\n",
    "    ellipse,\n",
    "    diamond,\n",
    "    multiplicative_noise,\n",
    "    multimodal_independence\n",
    "]\n",
    "\n",
    "tests = [\n",
    "    CCA,\n",
    "    Dcorr,\n",
    "    HHG,\n",
    "    Hsic,\n",
    "    RV,\n",
    "    MGC,\n",
    "#     Manova,\n",
    "]"
   ]
  },
  {
   "cell_type": "code",
   "execution_count": 6,
   "metadata": {},
   "outputs": [],
   "source": [
    "def find_dim(sim):\n",
    "    if sim not in simulations:\n",
    "        raise ValueError(\"Invalid simulation\")\n",
    "        \n",
    "    if sim in [joint_normal, sin_four_pi, sin_sixteen_pi, multiplicative_noise]:\n",
    "        dim = 10\n",
    "    elif sim in [multimodal_independence, uncorrelated_bernoulli, logarithmic]:\n",
    "        dim = 50\n",
    "    elif sim in [linear, exponential, cubic]:\n",
    "        dim = 100\n",
    "    elif sim in [square, diamond]:\n",
    "        dim = 30\n",
    "    else:\n",
    "        dim = 20\n",
    "        \n",
    "    return dim\n",
    "\n",
    "def find_dim_range(dim):\n",
    "    if dim < 20:\n",
    "        lim = 10\n",
    "    else:\n",
    "        lim = 20\n",
    "    \n",
    "    dim_range = list(range(int(dim/lim), dim+1, int(dim/lim)))\n",
    "    if int(dim/lim) != 1:\n",
    "        dim_range.insert(0, 1)\n",
    "    return dim_range\n",
    "\n",
    "def find_translate(sim):\n",
    "    if sim not in simulations:\n",
    "        raise ValueError(\"Invalid simulation\")\n",
    "        \n",
    "    if sim in [linear, cubic, w_shaped, spiral]:\n",
    "        trans = 0.2\n",
    "    elif sim in [step, quadratic, two_parabolas]:\n",
    "        trans = 0.3\n",
    "    elif sim in [circle]:\n",
    "        trans = 0.25\n",
    "    else:\n",
    "        trans = 0.8\n",
    "        \n",
    "    return trans"
   ]
  },
  {
   "cell_type": "markdown",
   "metadata": {},
   "source": [
    "The following function calculates the estimated power ``POWER_REPS`` number off times and averages them. It does this iterating over the number of sample sizes.\n",
    "\n",
    "**Note: We only recommend running this code if running the next 2 cells ONCE to generate the csv files used to visualize the plots. This code takes a very long time to run and if running, we recommend using a machine with many cores.**"
   ]
  },
  {
   "cell_type": "code",
   "execution_count": 7,
   "metadata": {},
   "outputs": [],
   "source": [
    "def estimate_power(sim, test):\n",
    "    dim = find_dim(sim)\n",
    "    dim_range = find_dim_range(dim)\n",
    "    trans = find_translate(sim)\n",
    "    est_power = np.array([np.mean([power_2samp_dimension(test, trans_2samp, sim, p=i, trans=trans) for _ in range(POWER_REPS)])\n",
    "                          for i in dim_range])\n",
    "    np.savetxt('../benchmarks/2samp_vs_dimension/{}_{}.csv'.format(sim.__name__, test.__name__),\n",
    "               est_power, delimiter=',')\n",
    "    \n",
    "    return est_power"
   ]
  },
  {
   "cell_type": "code",
   "execution_count": 8,
   "metadata": {
    "scrolled": true
   },
   "outputs": [
    {
     "name": "stdout",
     "output_type": "stream",
     "text": [
      "[Parallel(n_jobs=-1)]: Using backend LokyBackend with 8 concurrent workers.\n",
      "[Parallel(n_jobs=-1)]: Done   1 tasks      | elapsed:    2.4s\n",
      "[Parallel(n_jobs=-1)]: Done   2 tasks      | elapsed:    2.4s\n",
      "[Parallel(n_jobs=-1)]: Done   3 tasks      | elapsed:    2.4s\n",
      "[Parallel(n_jobs=-1)]: Done   4 tasks      | elapsed:    2.4s\n",
      "[Parallel(n_jobs=-1)]: Done   5 tasks      | elapsed:    2.4s\n",
      "[Parallel(n_jobs=-1)]: Done   6 tasks      | elapsed:    2.4s\n",
      "[Parallel(n_jobs=-1)]: Done   7 tasks      | elapsed:    2.4s\n",
      "[Parallel(n_jobs=-1)]: Done   8 tasks      | elapsed:    2.4s\n",
      "[Parallel(n_jobs=-1)]: Done   9 tasks      | elapsed:    2.4s\n",
      "[Parallel(n_jobs=-1)]: Done  10 tasks      | elapsed:    2.4s\n",
      "[Parallel(n_jobs=-1)]: Done  11 tasks      | elapsed:    2.4s\n",
      "[Parallel(n_jobs=-1)]: Done  12 tasks      | elapsed:    2.4s\n",
      "[Parallel(n_jobs=-1)]: Done  13 tasks      | elapsed:    2.4s\n",
      "[Parallel(n_jobs=-1)]: Done  14 tasks      | elapsed:    2.4s\n",
      "[Parallel(n_jobs=-1)]: Done  15 tasks      | elapsed:    2.4s\n",
      "[Parallel(n_jobs=-1)]: Done  16 tasks      | elapsed:    2.4s\n"
     ]
    },
    {
     "ename": "ValueError",
     "evalue": "zero-size array to reduction operation maximum which has no identity",
     "output_type": "error",
     "traceback": [
      "\u001b[0;31m---------------------------------------------------------------------------\u001b[0m",
      "\u001b[0;31m_RemoteTraceback\u001b[0m                          Traceback (most recent call last)",
      "\u001b[0;31m_RemoteTraceback\u001b[0m: \n\"\"\"\nTraceback (most recent call last):\n  File \"/Users/sampan501/miniconda3/lib/python3.7/site-packages/joblib/externals/loky/process_executor.py\", line 418, in _process_worker\n    r = call_item()\n  File \"/Users/sampan501/miniconda3/lib/python3.7/site-packages/joblib/externals/loky/process_executor.py\", line 272, in __call__\n    return self.fn(*self.args, **self.kwargs)\n  File \"/Users/sampan501/miniconda3/lib/python3.7/site-packages/joblib/_parallel_backends.py\", line 608, in __call__\n    return self.func(*args, **kwargs)\n  File \"/Users/sampan501/miniconda3/lib/python3.7/site-packages/joblib/parallel.py\", line 256, in __call__\n    for func, args, kwargs in self.items]\n  File \"/Users/sampan501/miniconda3/lib/python3.7/site-packages/joblib/parallel.py\", line 256, in <listcomp>\n    for func, args, kwargs in self.items]\n  File \"<ipython-input-7-59f10e2d9975>\", line 6, in estimate_power\n  File \"<ipython-input-7-59f10e2d9975>\", line 6, in <listcomp>\n  File \"<ipython-input-7-59f10e2d9975>\", line 5, in <listcomp>\n  File \"/Users/sampan501/workspace/mgc/benchmarks/power_2samp.py\", line 245, in power_2samp_dimension\n    random_state=random_state,\n  File \"/Users/sampan501/workspace/mgc/benchmarks/power_2samp.py\", line 136, in power\n    random_state=random_state,\n  File \"/Users/sampan501/workspace/mgc/benchmarks/power_2samp.py\", line 83, in _perm_test\n    alt_dist, null_dist = map(list, zip(*list(mapwrapper(parallelp, range(reps)))))\n  File \"/Users/sampan501/workspace/mgc/benchmarks/power_2samp.py\", line 33, in __call__\n    x, y = self.ksim(self.sim, self.n, self.p, noise=self.noise, degree=self.angle, trans=self.trans)\n  File \"/Users/sampan501/workspace/mgc/mgc/sims/ksample_sim.py\", line 124, in trans_2samp\n    x_trans, y_trans = _normalize(x_trans, y_trans)\n  File \"/Users/sampan501/workspace/mgc/mgc/sims/ksample_sim.py\", line 32, in _normalize\n    return np.divide(x, np.max(np.abs(x))), np.divide(y, np.max(np.abs(y)))\n  File \"<__array_function__ internals>\", line 6, in amax\n  File \"/Users/sampan501/miniconda3/lib/python3.7/site-packages/numpy/core/fromnumeric.py\", line 2621, in amax\n    keepdims=keepdims, initial=initial, where=where)\n  File \"/Users/sampan501/miniconda3/lib/python3.7/site-packages/numpy/core/fromnumeric.py\", line 90, in _wrapreduction\n    return ufunc.reduce(obj, axis, dtype, out, **passkwargs)\nValueError: zero-size array to reduction operation maximum which has no identity\n\"\"\"",
      "\nThe above exception was the direct cause of the following exception:\n",
      "\u001b[0;31mValueError\u001b[0m                                Traceback (most recent call last)",
      "\u001b[0;32m<ipython-input-8-144b08da9ad8>\u001b[0m in \u001b[0;36m<module>\u001b[0;34m\u001b[0m\n\u001b[1;32m      1\u001b[0m outputs = Parallel(n_jobs=-1, verbose=100)(\n\u001b[0;32m----> 2\u001b[0;31m     \u001b[0;34m[\u001b[0m\u001b[0mdelayed\u001b[0m\u001b[0;34m(\u001b[0m\u001b[0mestimate_power\u001b[0m\u001b[0;34m)\u001b[0m\u001b[0;34m(\u001b[0m\u001b[0msim\u001b[0m\u001b[0;34m,\u001b[0m \u001b[0mtest\u001b[0m\u001b[0;34m)\u001b[0m \u001b[0;32mfor\u001b[0m \u001b[0msim\u001b[0m \u001b[0;32min\u001b[0m \u001b[0msimulations\u001b[0m \u001b[0;32mfor\u001b[0m \u001b[0mtest\u001b[0m \u001b[0;32min\u001b[0m \u001b[0mtests\u001b[0m\u001b[0;34m]\u001b[0m\u001b[0;34m\u001b[0m\u001b[0;34m\u001b[0m\u001b[0m\n\u001b[0m\u001b[1;32m      3\u001b[0m )\n",
      "\u001b[0;32m~/miniconda3/lib/python3.7/site-packages/joblib/parallel.py\u001b[0m in \u001b[0;36m__call__\u001b[0;34m(self, iterable)\u001b[0m\n\u001b[1;32m   1015\u001b[0m \u001b[0;34m\u001b[0m\u001b[0m\n\u001b[1;32m   1016\u001b[0m             \u001b[0;32mwith\u001b[0m \u001b[0mself\u001b[0m\u001b[0;34m.\u001b[0m\u001b[0m_backend\u001b[0m\u001b[0;34m.\u001b[0m\u001b[0mretrieval_context\u001b[0m\u001b[0;34m(\u001b[0m\u001b[0;34m)\u001b[0m\u001b[0;34m:\u001b[0m\u001b[0;34m\u001b[0m\u001b[0;34m\u001b[0m\u001b[0m\n\u001b[0;32m-> 1017\u001b[0;31m                 \u001b[0mself\u001b[0m\u001b[0;34m.\u001b[0m\u001b[0mretrieve\u001b[0m\u001b[0;34m(\u001b[0m\u001b[0;34m)\u001b[0m\u001b[0;34m\u001b[0m\u001b[0;34m\u001b[0m\u001b[0m\n\u001b[0m\u001b[1;32m   1018\u001b[0m             \u001b[0;31m# Make sure that we get a last message telling us we are done\u001b[0m\u001b[0;34m\u001b[0m\u001b[0;34m\u001b[0m\u001b[0;34m\u001b[0m\u001b[0m\n\u001b[1;32m   1019\u001b[0m             \u001b[0melapsed_time\u001b[0m \u001b[0;34m=\u001b[0m \u001b[0mtime\u001b[0m\u001b[0;34m.\u001b[0m\u001b[0mtime\u001b[0m\u001b[0;34m(\u001b[0m\u001b[0;34m)\u001b[0m \u001b[0;34m-\u001b[0m \u001b[0mself\u001b[0m\u001b[0;34m.\u001b[0m\u001b[0m_start_time\u001b[0m\u001b[0;34m\u001b[0m\u001b[0;34m\u001b[0m\u001b[0m\n",
      "\u001b[0;32m~/miniconda3/lib/python3.7/site-packages/joblib/parallel.py\u001b[0m in \u001b[0;36mretrieve\u001b[0;34m(self)\u001b[0m\n\u001b[1;32m    907\u001b[0m             \u001b[0;32mtry\u001b[0m\u001b[0;34m:\u001b[0m\u001b[0;34m\u001b[0m\u001b[0;34m\u001b[0m\u001b[0m\n\u001b[1;32m    908\u001b[0m                 \u001b[0;32mif\u001b[0m \u001b[0mgetattr\u001b[0m\u001b[0;34m(\u001b[0m\u001b[0mself\u001b[0m\u001b[0;34m.\u001b[0m\u001b[0m_backend\u001b[0m\u001b[0;34m,\u001b[0m \u001b[0;34m'supports_timeout'\u001b[0m\u001b[0;34m,\u001b[0m \u001b[0;32mFalse\u001b[0m\u001b[0;34m)\u001b[0m\u001b[0;34m:\u001b[0m\u001b[0;34m\u001b[0m\u001b[0;34m\u001b[0m\u001b[0m\n\u001b[0;32m--> 909\u001b[0;31m                     \u001b[0mself\u001b[0m\u001b[0;34m.\u001b[0m\u001b[0m_output\u001b[0m\u001b[0;34m.\u001b[0m\u001b[0mextend\u001b[0m\u001b[0;34m(\u001b[0m\u001b[0mjob\u001b[0m\u001b[0;34m.\u001b[0m\u001b[0mget\u001b[0m\u001b[0;34m(\u001b[0m\u001b[0mtimeout\u001b[0m\u001b[0;34m=\u001b[0m\u001b[0mself\u001b[0m\u001b[0;34m.\u001b[0m\u001b[0mtimeout\u001b[0m\u001b[0;34m)\u001b[0m\u001b[0;34m)\u001b[0m\u001b[0;34m\u001b[0m\u001b[0;34m\u001b[0m\u001b[0m\n\u001b[0m\u001b[1;32m    910\u001b[0m                 \u001b[0;32melse\u001b[0m\u001b[0;34m:\u001b[0m\u001b[0;34m\u001b[0m\u001b[0;34m\u001b[0m\u001b[0m\n\u001b[1;32m    911\u001b[0m                     \u001b[0mself\u001b[0m\u001b[0;34m.\u001b[0m\u001b[0m_output\u001b[0m\u001b[0;34m.\u001b[0m\u001b[0mextend\u001b[0m\u001b[0;34m(\u001b[0m\u001b[0mjob\u001b[0m\u001b[0;34m.\u001b[0m\u001b[0mget\u001b[0m\u001b[0;34m(\u001b[0m\u001b[0;34m)\u001b[0m\u001b[0;34m)\u001b[0m\u001b[0;34m\u001b[0m\u001b[0;34m\u001b[0m\u001b[0m\n",
      "\u001b[0;32m~/miniconda3/lib/python3.7/site-packages/joblib/_parallel_backends.py\u001b[0m in \u001b[0;36mwrap_future_result\u001b[0;34m(future, timeout)\u001b[0m\n\u001b[1;32m    560\u001b[0m         AsyncResults.get from multiprocessing.\"\"\"\n\u001b[1;32m    561\u001b[0m         \u001b[0;32mtry\u001b[0m\u001b[0;34m:\u001b[0m\u001b[0;34m\u001b[0m\u001b[0;34m\u001b[0m\u001b[0m\n\u001b[0;32m--> 562\u001b[0;31m             \u001b[0;32mreturn\u001b[0m \u001b[0mfuture\u001b[0m\u001b[0;34m.\u001b[0m\u001b[0mresult\u001b[0m\u001b[0;34m(\u001b[0m\u001b[0mtimeout\u001b[0m\u001b[0;34m=\u001b[0m\u001b[0mtimeout\u001b[0m\u001b[0;34m)\u001b[0m\u001b[0;34m\u001b[0m\u001b[0;34m\u001b[0m\u001b[0m\n\u001b[0m\u001b[1;32m    563\u001b[0m         \u001b[0;32mexcept\u001b[0m \u001b[0mLokyTimeoutError\u001b[0m\u001b[0;34m:\u001b[0m\u001b[0;34m\u001b[0m\u001b[0;34m\u001b[0m\u001b[0m\n\u001b[1;32m    564\u001b[0m             \u001b[0;32mraise\u001b[0m \u001b[0mTimeoutError\u001b[0m\u001b[0;34m(\u001b[0m\u001b[0;34m)\u001b[0m\u001b[0;34m\u001b[0m\u001b[0;34m\u001b[0m\u001b[0m\n",
      "\u001b[0;32m~/miniconda3/lib/python3.7/concurrent/futures/_base.py\u001b[0m in \u001b[0;36mresult\u001b[0;34m(self, timeout)\u001b[0m\n\u001b[1;32m    433\u001b[0m                 \u001b[0;32mraise\u001b[0m \u001b[0mCancelledError\u001b[0m\u001b[0;34m(\u001b[0m\u001b[0;34m)\u001b[0m\u001b[0;34m\u001b[0m\u001b[0;34m\u001b[0m\u001b[0m\n\u001b[1;32m    434\u001b[0m             \u001b[0;32melif\u001b[0m \u001b[0mself\u001b[0m\u001b[0;34m.\u001b[0m\u001b[0m_state\u001b[0m \u001b[0;34m==\u001b[0m \u001b[0mFINISHED\u001b[0m\u001b[0;34m:\u001b[0m\u001b[0;34m\u001b[0m\u001b[0;34m\u001b[0m\u001b[0m\n\u001b[0;32m--> 435\u001b[0;31m                 \u001b[0;32mreturn\u001b[0m \u001b[0mself\u001b[0m\u001b[0;34m.\u001b[0m\u001b[0m__get_result\u001b[0m\u001b[0;34m(\u001b[0m\u001b[0;34m)\u001b[0m\u001b[0;34m\u001b[0m\u001b[0;34m\u001b[0m\u001b[0m\n\u001b[0m\u001b[1;32m    436\u001b[0m             \u001b[0;32melse\u001b[0m\u001b[0;34m:\u001b[0m\u001b[0;34m\u001b[0m\u001b[0;34m\u001b[0m\u001b[0m\n\u001b[1;32m    437\u001b[0m                 \u001b[0;32mraise\u001b[0m \u001b[0mTimeoutError\u001b[0m\u001b[0;34m(\u001b[0m\u001b[0;34m)\u001b[0m\u001b[0;34m\u001b[0m\u001b[0;34m\u001b[0m\u001b[0m\n",
      "\u001b[0;32m~/miniconda3/lib/python3.7/concurrent/futures/_base.py\u001b[0m in \u001b[0;36m__get_result\u001b[0;34m(self)\u001b[0m\n\u001b[1;32m    382\u001b[0m     \u001b[0;32mdef\u001b[0m \u001b[0m__get_result\u001b[0m\u001b[0;34m(\u001b[0m\u001b[0mself\u001b[0m\u001b[0;34m)\u001b[0m\u001b[0;34m:\u001b[0m\u001b[0;34m\u001b[0m\u001b[0;34m\u001b[0m\u001b[0m\n\u001b[1;32m    383\u001b[0m         \u001b[0;32mif\u001b[0m \u001b[0mself\u001b[0m\u001b[0;34m.\u001b[0m\u001b[0m_exception\u001b[0m\u001b[0;34m:\u001b[0m\u001b[0;34m\u001b[0m\u001b[0;34m\u001b[0m\u001b[0m\n\u001b[0;32m--> 384\u001b[0;31m             \u001b[0;32mraise\u001b[0m \u001b[0mself\u001b[0m\u001b[0;34m.\u001b[0m\u001b[0m_exception\u001b[0m\u001b[0;34m\u001b[0m\u001b[0;34m\u001b[0m\u001b[0m\n\u001b[0m\u001b[1;32m    385\u001b[0m         \u001b[0;32melse\u001b[0m\u001b[0;34m:\u001b[0m\u001b[0;34m\u001b[0m\u001b[0;34m\u001b[0m\u001b[0m\n\u001b[1;32m    386\u001b[0m             \u001b[0;32mreturn\u001b[0m \u001b[0mself\u001b[0m\u001b[0;34m.\u001b[0m\u001b[0m_result\u001b[0m\u001b[0;34m\u001b[0m\u001b[0;34m\u001b[0m\u001b[0m\n",
      "\u001b[0;31mValueError\u001b[0m: zero-size array to reduction operation maximum which has no identity"
     ]
    }
   ],
   "source": [
    "outputs = Parallel(n_jobs=-1, verbose=100)(\n",
    "    [delayed(estimate_power)(sim, test) for sim in simulations for test in tests]\n",
    ")"
   ]
  },
  {
   "cell_type": "markdown",
   "metadata": {},
   "source": [
    "The following code loops over each saved independence test file and generates absolute power curves for each test and for each simulation modality."
   ]
  },
  {
   "cell_type": "code",
   "execution_count": null,
   "metadata": {},
   "outputs": [],
   "source": [
    "def plot_power():\n",
    "    fig, ax = plt.subplots(nrows=4, ncols=5, figsize=(28,24))\n",
    "    \n",
    "    sim_title = [\n",
    "        \"Linear\",\n",
    "        \"Exponential\",\n",
    "        \"Cubic\",\n",
    "        \"Joint Normal\",\n",
    "        \"Step\",\n",
    "        \"Quadratic\",\n",
    "        \"W-Shaped\",\n",
    "        \"Spiral\",\n",
    "        \"Bernoulli\",\n",
    "        \"Logarithmic\",\n",
    "        \"Fourth Root\",\n",
    "        \"Sine 4\\u03C0\",\n",
    "        \"Sine 16\\u03C0\",\n",
    "        \"Square\",\n",
    "        \"Two Parabolas\",\n",
    "        \"Circle\",\n",
    "        \"Ellipse\",\n",
    "        \"Diamond\",\n",
    "        \"Multiplicative\",\n",
    "        \"Independence\"\n",
    "    ]\n",
    "    \n",
    "    for i, row in enumerate(ax):\n",
    "        for j, col in enumerate(row):\n",
    "            count = 5*i + j\n",
    "            sim = simulations[count]\n",
    "            \n",
    "            for test in tests:\n",
    "                mgc_power = np.genfromtxt('../benchmarks/2samp_vs_dimension/{}_MGC.csv'.format(sim.__name__),\n",
    "                                          delimiter=',')\n",
    "                power = np.genfromtxt('../benchmarks/2samp_vs_dimension/{}_{}.csv'.format(sim.__name__, test.__name__),\n",
    "                                      delimiter=',')\n",
    "                dim_range = find_dim_range(find_dim(sim))\n",
    "                \n",
    "                custom_color = {\n",
    "                    \"Dcorr\" : \"b-\",\n",
    "                    \"Hsic\" : \"g-\",\n",
    "                    \"MGC\" : \"r-\"\n",
    "                }\n",
    "                if test.__name__ in custom_color.keys():\n",
    "                    if test.__name__ == \"MGC\":\n",
    "                        col.plot(dim_range, power, custom_color[test.__name__], label=test.__name__, lw=5)\n",
    "                    else:\n",
    "                        col.plot(dim_range, power, custom_color[test.__name__], label=test.__name__, lw=2)\n",
    "                else:\n",
    "                    col.plot(dim_range, power, label=test.__name__, lw=1)\n",
    "                col.set_xticks([dim_range[0], dim_range[-1]])\n",
    "                col.set_ylim(0, 1.05)\n",
    "                col.set_yticks([])\n",
    "                if j == 0:\n",
    "                    col.set_yticks([0, 1])\n",
    "                col.set_title(sim_title[count])\n",
    "    \n",
    "    fig.text(0.5, 0.08, 'Dimension', ha='center')\n",
    "    fig.text(0.08, 0.5, 'Absolute Statistical Power', va='center', rotation='vertical')\n",
    "    leg = plt.legend(bbox_to_anchor=(0.5, 0.08), bbox_transform=plt.gcf().transFigure,\n",
    "                     ncol=5, loc='upper center')\n",
    "    leg.get_frame().set_linewidth(0.0)\n",
    "    for legobj in leg.legendHandles:\n",
    "        legobj.set_linewidth(5.0)\n",
    "    plt.subplots_adjust(hspace=.50)\n",
    "    plt.savefig('../benchmarks/figs/2samp_power_dimension.pdf', transparent=True, bbox_inches='tight')"
   ]
  },
  {
   "cell_type": "code",
   "execution_count": null,
   "metadata": {},
   "outputs": [],
   "source": [
    "plot_power()"
   ]
  },
  {
   "cell_type": "code",
   "execution_count": null,
   "metadata": {},
   "outputs": [],
   "source": []
  }
 ],
 "metadata": {
  "kernelspec": {
   "display_name": "Python 3",
   "language": "python",
   "name": "python3"
  },
  "language_info": {
   "codemirror_mode": {
    "name": "ipython",
    "version": 3
   },
   "file_extension": ".py",
   "mimetype": "text/x-python",
   "name": "python",
   "nbconvert_exporter": "python",
   "pygments_lexer": "ipython3",
   "version": "3.7.4"
  }
 },
 "nbformat": 4,
 "nbformat_minor": 2
}
