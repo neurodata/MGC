{
 "cells": [
  {
   "cell_type": "code",
   "execution_count": 1,
   "metadata": {},
   "outputs": [],
   "source": [
    "import numpy as np\n",
    "from scipy.io import savemat\n",
    "import random\n",
    "import pickle\n",
    "\n",
    "from mgcpy.benchmarks.ts_benchmarks import IndependentAR1, CorrelatedAR1, Nonlinear, EconometricProcess, NonlinearDependence, DynamicProcess"
   ]
  },
  {
   "cell_type": "code",
   "execution_count": 2,
   "metadata": {},
   "outputs": [],
   "source": [
    "def _simulate_data(process, n_max, num_sims):\n",
    "    # Store simulate processes.\n",
    "    X_full = np.zeros((n_max, num_sims))\n",
    "    Y_full = np.zeros((n_max, num_sims))\n",
    "    for s in range(num_sims):\n",
    "        X_full[:, s], Y_full[:, s] = process.simulate(n_max)\n",
    "        \n",
    "    # Save simulated output.\n",
    "    output = {'X' : X_full, 'Y' : Y_full}\n",
    "    filename = '%s_data.pkl' % process.filename\n",
    "    file = open(filename, 'wb')\n",
    "    pickle.dump(output, file)\n",
    "    file.close()\n",
    "    \n",
    "    # Save to MATLAB format as well.\n",
    "    savemat('%s_data.mat' % process.filename, {'X_full' : X_full, 'Y_full' : Y_full})"
   ]
  },
  {
   "cell_type": "code",
   "execution_count": 3,
   "metadata": {},
   "outputs": [],
   "source": [
    "np.random.seed(1)\n",
    "processes = [\n",
    "    IndependentAR1(), \n",
    "    CorrelatedAR1(), \n",
    "    Nonlinear(), \n",
    "    EconometricProcess(shift=0.5, scale=0.1), \n",
    "    NonlinearDependence()\n",
    "]"
   ]
  },
  {
   "cell_type": "code",
   "execution_count": 4,
   "metadata": {},
   "outputs": [],
   "source": [
    "for process in processes:\n",
    "    _simulate_data(process, n_max=500, num_sims=1000)"
   ]
  },
  {
   "cell_type": "code",
   "execution_count": 5,
   "metadata": {},
   "outputs": [
    {
     "data": {
      "text/plain": [
       "False"
      ]
     },
     "execution_count": 5,
     "metadata": {},
     "output_type": "execute_result"
    }
   ],
   "source": [
    "#verify no infs in econometric process\n",
    "filename = \"%s_data.pkl\" % (processes[3].filename)\n",
    "pickle_in = open(filename,\"rb\")\n",
    "data = pickle.load(pickle_in)\n",
    "pickle_in.close()\n",
    "X_full = data['X']\n",
    "Y_full = data['Y']\n",
    "\n",
    "np.any(np.isinf(X_full))"
   ]
  }
 ],
 "metadata": {
  "kernelspec": {
   "display_name": "Python 3",
   "language": "python",
   "name": "python3"
  },
  "language_info": {
   "codemirror_mode": {
    "name": "ipython",
    "version": 3
   },
   "file_extension": ".py",
   "mimetype": "text/x-python",
   "name": "python",
   "nbconvert_exporter": "python",
   "pygments_lexer": "ipython3",
   "version": "3.7.5"
  }
 },
 "nbformat": 4,
 "nbformat_minor": 2
}
