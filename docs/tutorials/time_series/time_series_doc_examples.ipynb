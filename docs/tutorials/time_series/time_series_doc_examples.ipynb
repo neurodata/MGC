{
 "cells": [
  {
   "cell_type": "markdown",
   "metadata": {},
   "source": [
    "# Time Series Documentation Examples: DCorr-X and MGC-X"
   ]
  },
  {
   "cell_type": "markdown",
   "metadata": {},
   "source": [
    "## DcorrX"
   ]
  },
  {
   "cell_type": "code",
   "execution_count": 6,
   "metadata": {},
   "outputs": [
    {
     "data": {
      "text/plain": [
       "'1.0, 0.01, 0'"
      ]
     },
     "execution_count": 6,
     "metadata": {},
     "output_type": "execute_result"
    }
   ],
   "source": [
    "import numpy as np\n",
    "from hyppo.time_series import DcorrX\n",
    "np.random.seed(456)\n",
    "x = np.arange(7)\n",
    "y = x\n",
    "stat, pvalue, dcorrx_dict = DcorrX().test(x, y, reps = 100)\n",
    "'%.1f, %.2f, %d' % (stat, pvalue, dcorrx_dict['opt_lag'])"
   ]
  },
  {
   "cell_type": "code",
   "execution_count": 7,
   "metadata": {},
   "outputs": [
    {
     "data": {
      "text/plain": [
       "'1.1, 0.01, 1'"
      ]
     },
     "execution_count": 7,
     "metadata": {},
     "output_type": "execute_result"
    }
   ],
   "source": [
    "import numpy as np\n",
    "from hyppo.time_series import DcorrX\n",
    "np.random.seed(1234)\n",
    "x = np.random.permutation(10)\n",
    "y = np.roll(x, -1)\n",
    "stat, pvalue, dcorrx_dict = DcorrX(max_lag=1).test(x, y, reps=1000)\n",
    "'%.1f, %.2f, %d' % (stat, pvalue, dcorrx_dict['opt_lag'])"
   ]
  },
  {
   "cell_type": "code",
   "execution_count": 9,
   "metadata": {},
   "outputs": [
    {
     "data": {
      "text/plain": [
       "'1.0, 0.00'"
      ]
     },
     "execution_count": 9,
     "metadata": {},
     "output_type": "execute_result"
    }
   ],
   "source": [
    "import numpy as np\n",
    "from hyppo.time_series import DcorrX\n",
    "np.random.seed(789)\n",
    "x = np.ones((10, 10)) - np.identity(10)\n",
    "y = 2 * x\n",
    "dcorrx = DcorrX(compute_distance=None)\n",
    "stat, pvalue, dcorrx_dict = dcorrx.test(x, y)\n",
    "'%.1f, %.2f' % (stat, pvalue)"
   ]
  },
  {
   "cell_type": "markdown",
   "metadata": {},
   "source": [
    "## MGCX"
   ]
  },
  {
   "cell_type": "code",
   "execution_count": 2,
   "metadata": {},
   "outputs": [
    {
     "data": {
      "text/plain": [
       "'1.0, 0.01, [7, 7]'"
      ]
     },
     "execution_count": 2,
     "metadata": {},
     "output_type": "execute_result"
    }
   ],
   "source": [
    "import numpy as np\n",
    "from hyppo.time_series import MGCX\n",
    "np.random.seed(456)\n",
    "x = np.arange(7)\n",
    "y = x\n",
    "stat, pvalue, mgcx_dict = MGCX().test(x, y, reps = 100)\n",
    "'%.1f, %.2f, [%d, %d]' % (stat, pvalue, mgcx_dict['opt_scale'][0], mgcx_dict['opt_scale'][1])"
   ]
  },
  {
   "cell_type": "code",
   "execution_count": 4,
   "metadata": {},
   "outputs": [
    {
     "data": {
      "text/plain": [
       "'1.1, 0.01, 1'"
      ]
     },
     "execution_count": 4,
     "metadata": {},
     "output_type": "execute_result"
    }
   ],
   "source": [
    "import numpy as np\n",
    "from hyppo.time_series import MGCX\n",
    "np.random.seed(1234)\n",
    "x = np.random.permutation(10)\n",
    "y = np.roll(x, -1)\n",
    "stat, pvalue, mgcx_dict = MGCX(max_lag=1).test(x, y, reps=1000)\n",
    "'%.1f, %.2f, %d' % (stat, pvalue, mgcx_dict['opt_lag'])"
   ]
  },
  {
   "cell_type": "code",
   "execution_count": 5,
   "metadata": {},
   "outputs": [
    {
     "data": {
      "text/plain": [
       "'1.0, 0.00'"
      ]
     },
     "execution_count": 5,
     "metadata": {},
     "output_type": "execute_result"
    }
   ],
   "source": [
    "import numpy as np\n",
    "from hyppo.time_series import MGCX\n",
    "np.random.seed(789)\n",
    "x = np.ones((10, 10)) - np.identity(10)\n",
    "y = 2 * x\n",
    "mgcx = MGCX(compute_distance=None)\n",
    "stat, pvalue, mgcx_dict = mgcx.test(x, y)\n",
    "'%.1f, %.2f' % (stat, pvalue)"
   ]
  },
  {
   "cell_type": "code",
   "execution_count": null,
   "metadata": {},
   "outputs": [],
   "source": []
  }
 ],
 "metadata": {
  "kernelspec": {
   "display_name": "Python 3",
   "language": "python",
   "name": "python3"
  },
  "language_info": {
   "codemirror_mode": {
    "name": "ipython",
    "version": 3
   },
   "file_extension": ".py",
   "mimetype": "text/x-python",
   "name": "python",
   "nbconvert_exporter": "python",
   "pygments_lexer": "ipython3",
   "version": "3.7.4"
  }
 },
 "nbformat": 4,
 "nbformat_minor": 2
}
