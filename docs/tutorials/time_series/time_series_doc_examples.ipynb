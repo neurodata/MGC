{
 "cells": [
  {
   "cell_type": "markdown",
   "metadata": {},
   "source": [
    "# Time Series Documentation Examples: DCorr-X and MGC-X\n",
    "In this notebook, we demonstrate the cross-distance correlation (`DCorrX`) test and the multiscale graph correlation for time series (`MGCX`) test for independence of time series."
   ]
  },
  {
   "cell_type": "code",
   "execution_count": 1,
   "metadata": {},
   "outputs": [],
   "source": [
    "%matplotlib inline\n",
    "import numpy as np\n",
    "from scipy.stats import chi2\n",
    "from scipy.io import savemat\n",
    "import matplotlib.pyplot as plt\n",
    "import random\n",
    "from joblib import Parallel, delayed\n",
    "import pickle\n",
    "\n",
    "from hyppo.time_series import MGCX, DcorrX\n",
    "from hyppo.sims import indep_ar, cross_corr_ar, nonlinear_process"
   ]
  },
  {
   "cell_type": "markdown",
   "metadata": {},
   "source": [
    "**Usage tutorials in doc strings.**"
   ]
  },
  {
   "cell_type": "code",
   "execution_count": 6,
   "metadata": {},
   "outputs": [
    {
     "data": {
      "text/plain": [
       "'1.0, 0.01, 0'"
      ]
     },
     "execution_count": 6,
     "metadata": {},
     "output_type": "execute_result"
    }
   ],
   "source": [
    "import numpy as np\n",
    "from hyppo.time_series import DcorrX\n",
    "x = np.arange(7)\n",
    "y = x\n",
    "stat, pvalue, dcorrx_dict = DcorrX().test(x, y, reps = 100)\n",
    "'%.1f, %.2f, %d' % (stat, pvalue, dcorrx_dict['opt_lag'])"
   ]
  },
  {
   "cell_type": "code",
   "execution_count": 33,
   "metadata": {},
   "outputs": [
    {
     "name": "stdout",
     "output_type": "stream",
     "text": [
      "[7 2 9 1 0 8 4 5 6 3]\n"
     ]
    },
    {
     "data": {
      "text/plain": [
       "'1.1, 0.01, 1'"
      ]
     },
     "execution_count": 33,
     "metadata": {},
     "output_type": "execute_result"
    }
   ],
   "source": [
    "import numpy as np\n",
    "from hyppo.time_series import DcorrX\n",
    "np.random.seed(1234)\n",
    "x = np.random.permutation(10)\n",
    "y = np.roll(x, -1)\n",
    "stat, pvalue, dcorrx_dict = DcorrX(max_lag=1).test(x, y, reps=1000)\n",
    "'%.1f, %.2f, %d' % (stat, pvalue, dcorrx_dict['opt_lag'])"
   ]
  },
  {
   "cell_type": "code",
   "execution_count": 34,
   "metadata": {},
   "outputs": [
    {
     "data": {
      "text/plain": [
       "'1.0, 0.00'"
      ]
     },
     "execution_count": 34,
     "metadata": {},
     "output_type": "execute_result"
    }
   ],
   "source": [
    "import numpy as np\n",
    "from hyppo.time_series import DcorrX\n",
    "x = np.ones((10, 10)) - np.identity(10)\n",
    "y = 2 * x\n",
    "dcorrx = DcorrX(compute_distance=None)\n",
    "stat, pvalue, dcorrx_dict = dcorrx.test(x, y)\n",
    "'%.1f, %.2f' % (stat, pvalue)"
   ]
  },
  {
   "cell_type": "code",
   "execution_count": 39,
   "metadata": {},
   "outputs": [
    {
     "data": {
      "text/plain": [
       "'1.0, 0.02, [7, 7]'"
      ]
     },
     "execution_count": 39,
     "metadata": {},
     "output_type": "execute_result"
    }
   ],
   "source": [
    "import numpy as np\n",
    "from hyppo.time_series import MGCX\n",
    "x = np.arange(7)\n",
    "y = x\n",
    "stat, pvalue, mgcx_dict = MGCX().test(x, y, reps = 100)\n",
    "'%.1f, %.2f, [%d, %d]' % (stat, pvalue, mgcx_dict['opt_scale'][0], mgcx_dict['opt_scale'][1])"
   ]
  },
  {
   "cell_type": "code",
   "execution_count": 43,
   "metadata": {},
   "outputs": [
    {
     "data": {
      "text/plain": [
       "'1.1, 0.01, 1'"
      ]
     },
     "execution_count": 43,
     "metadata": {},
     "output_type": "execute_result"
    }
   ],
   "source": [
    "import numpy as np\n",
    "from hyppo.time_series import MGCX\n",
    "np.random.seed(1234)\n",
    "x = np.random.permutation(10)\n",
    "y = np.roll(x, -1)\n",
    "stat, pvalue, mgcx_dict = MGCX(max_lag=1).test(x, y, reps=100)\n",
    "'%.1f, %.2f, %d' % (stat, pvalue, mgcx_dict['opt_lag'])"
   ]
  },
  {
   "cell_type": "code",
   "execution_count": 42,
   "metadata": {},
   "outputs": [
    {
     "data": {
      "text/plain": [
       "'1.0, 0.01'"
      ]
     },
     "execution_count": 42,
     "metadata": {},
     "output_type": "execute_result"
    }
   ],
   "source": [
    "import numpy as np\n",
    "from hyppo.time_series import MGCX\n",
    "x = np.ones((10, 10)) - np.identity(10)\n",
    "y = 2 * x\n",
    "mgcx = MGCX(compute_distance=None)\n",
    "stat, pvalue, mgcx_dict = mgcx.test(x, y, reps = 100)\n",
    "'%.1f, %.2f' % (stat, pvalue)"
   ]
  }
 ],
 "metadata": {
  "kernelspec": {
   "display_name": "Python 3",
   "language": "python",
   "name": "python3"
  },
  "language_info": {
   "codemirror_mode": {
    "name": "ipython",
    "version": 3
   },
   "file_extension": ".py",
   "mimetype": "text/x-python",
   "name": "python",
   "nbconvert_exporter": "python",
   "pygments_lexer": "ipython3",
   "version": "3.7.4"
  }
 },
 "nbformat": 4,
 "nbformat_minor": 2
}
