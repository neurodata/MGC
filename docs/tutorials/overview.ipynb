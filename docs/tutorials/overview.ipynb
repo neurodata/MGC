{
  "cells": [
    {
      "cell_type": "code",
      "execution_count": null,
      "metadata": {
        "collapsed": false
      },
      "outputs": [],
      "source": [
        "%matplotlib inline"
      ]
    },
    {
      "cell_type": "markdown",
      "metadata": {},
      "source": [
        "\n\n# Overview\n\n``hyppo`` is a multivariate hypothesis testing package, dealing with problems such as\nindependence testing, *k*-sample testing, time series independence testing, etc. It\nincludes algorithms developed by the `neurodata lab <https://neurodata.io/mgc/>`_ as\nwell as relevant important tests within the field.\n\nThe primary motivation for creating ``hyppo`` was simply the limitations of tools that\ndata scientists are afforded in Python, which then leads to complex workflows using\nother languages such as R or MATLAB. This is especially true for hypothesis testing,\nwhich is a very important part of data science.\n\n## Conventions\n\nBefore we get started, here are a few of the conventions we use within ``hyppo``:\n\n* All tests are releagted to a single class, and all classes have a ``.test`` method.\n  This method returns a test statistic and p-value, as well as other informative\n  outputs depending on the test.\n* All functions and classes accept numpy arrays as inputs. Optional inputs vary between\n  tests within the package.\n\n## The Library\n\nMost classes and functions are available through the :mod:`hyppo` top level package,\nthough our workflow generally involves importing specific classes or methods from our\nmodules.\n\nOur goal is to create a comprehensive hypothesis testing package in a simple and easy\nto use interface. Currently, we include the following modules:\n:mod:`hyppo.independence`, :mod:`hyppo.ksample`, :mod:`hyppo.time_series`, and\n:mod:`hyppo.tools`. The last of which does not contain any tests, but functions to\ngenerate simulated data, that we used to evalue our methods, as well as functions to\ncalculate p-values or other important functions commmonly used between modules.\n\n## Brief Example\n\nAs an example, let's generate some simulated data using :class:`hyppo.tools.linear`:\n"
      ]
    },
    {
      "cell_type": "code",
      "execution_count": null,
      "metadata": {
        "collapsed": false
      },
      "outputs": [],
      "source": [
        "from hyppo.tools import spiral\n\nx, y = spiral(100, 1, noise=True)"
      ]
    },
    {
      "cell_type": "markdown",
      "metadata": {},
      "source": [
        "The data are points simulating a noisey spiral relationship between random variables\n$X$ and $Y$ and returns realizations as :class:`numpy.ndarray`:\n\n"
      ]
    },
    {
      "cell_type": "code",
      "execution_count": null,
      "metadata": {
        "collapsed": false
      },
      "outputs": [],
      "source": [
        "import matplotlib.pyplot as plt\n\nplt.figure()\nplt.scatter(x, y)\nplt.show()"
      ]
    },
    {
      "cell_type": "markdown",
      "metadata": {},
      "source": [
        "Let's ask the question: are ``x`` and ``y`` independent? From the description given\nabove, the answer to that is obviously yes. We can verify that this is in fact true by\nrunning an independence test. Let's using the test multiscale graph correlation (MGC)\nwhich, as an aside, was the test that started the creation of the package. First, we\nhave to import it, and then run the test:\n\n"
      ]
    },
    {
      "cell_type": "code",
      "execution_count": null,
      "metadata": {
        "collapsed": false
      },
      "outputs": [],
      "source": [
        "from hyppo.independence import MGC\n\nstat, pvalue, mgc_dict = MGC().test(x, y)\n# Printing a gridder shows the class and all of it's configuration options.\nprint(stat, pvalue)"
      ]
    },
    {
      "cell_type": "markdown",
      "metadata": {},
      "source": [
        "We see that we are right! Since the p-value is less than the alpha level of 0.05, we\ncan conclude that random variables $X$ and $Y$ are independent. A cool\nthing about MGC (and something we will expand upon in it's documentation) is that we\nget a map of test statistics that inform the nature of the relationships, i.e. linear,\nnonlinear, etc.\n\n"
      ]
    },
    {
      "cell_type": "code",
      "execution_count": null,
      "metadata": {
        "collapsed": false
      },
      "outputs": [],
      "source": [
        "import matplotlib.ticker as ticker\nimport seaborn as sns\n\nmgc_map = mgc_dict[\"mgc_map\"]\nopt_scale = mgc_dict[\"opt_scale\"]  # i.e. maximum smoothed test statistic\n\nprint(\"Optimal Scale:\", opt_scale)\nfig, (ax, cax) = plt.subplots(\n    ncols=2, figsize=(9.45, 7.5), gridspec_kw={\"width_ratios\": [1, 0.05]}\n)\n\n# draw heatmap and colorbar\nax = sns.heatmap(mgc_map, cmap=\"YlGnBu\", ax=ax, cbar=False)\nfig.colorbar(ax.get_children()[0], cax=cax, orientation=\"vertical\")\nax.invert_yaxis()\n\n# optimal scale\nax.scatter(opt_scale[0], opt_scale[1], marker=\"X\", s=200, color=\"red\")\n\n# make plots look nice\nfig.suptitle(\"MGC Map\", fontsize=17)\nax.xaxis.set_major_locator(ticker.MultipleLocator(10))\nax.xaxis.set_major_formatter(ticker.ScalarFormatter())\nax.yaxis.set_major_locator(ticker.MultipleLocator(10))\nax.yaxis.set_major_formatter(ticker.ScalarFormatter())\nax.set_xlabel(\"Neighbors for x\")\nax.set_ylabel(\"Neighbors for y\")\nax.set_xticks([0, 50, 100])\nax.set_yticks([0, 50, 100])\nax.xaxis.set_tick_params()\nax.yaxis.set_tick_params()\ncax.xaxis.set_tick_params()\ncax.yaxis.set_tick_params()\nplt.show()"
      ]
    },
    {
      "cell_type": "markdown",
      "metadata": {},
      "source": [
        "And that's it! Aside from the last section (which is unique to MGC), this is how you\nrun a test in ``hyppo``.\n\n"
      ]
    },
    {
      "cell_type": "markdown",
      "metadata": {},
      "source": [
        "## Wrap Up\n\nThis covers the basics of using most tests in ``hyppo``. Most use cases and examples\nin the documentation will involve some variation of the following workflow:\n\n1. Load your data and convert to :class:`numpy.ndarray`\n2. Import the desired test\n3. Run the test on your data\n4. Obtain a test statistic and p-value (among other outputs)\n\n"
      ]
    }
  ],
  "metadata": {
    "kernelspec": {
      "display_name": "Python 3",
      "language": "python",
      "name": "python3"
    },
    "language_info": {
      "codemirror_mode": {
        "name": "ipython",
        "version": 3
      },
      "file_extension": ".py",
      "mimetype": "text/x-python",
      "name": "python",
      "nbconvert_exporter": "python",
      "pygments_lexer": "ipython3",
      "version": "3.8.5"
    }
  },
  "nbformat": 4,
  "nbformat_minor": 0
}