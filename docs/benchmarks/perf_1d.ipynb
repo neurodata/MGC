{
  "cells": [
    {
      "cell_type": "code",
      "execution_count": null,
      "metadata": {
        "collapsed": false
      },
      "outputs": [],
      "source": [
        "%matplotlib inline"
      ]
    },
    {
      "cell_type": "markdown",
      "metadata": {},
      "source": [
        "\n# 1D Performance Comparisons\n\nThere are few implementations in :mod:`hyppo.independence` the have implementations\nin R. Here, we compare the test statistics between the R-generated values and our\npackage values. As you can see, there is a minimum difference between test statistics.\n"
      ]
    },
    {
      "cell_type": "code",
      "execution_count": null,
      "metadata": {
        "collapsed": false
      },
      "outputs": [],
      "source": [
        "import os\nimport sys\nimport timeit\n\nimport matplotlib.pyplot as plt\nimport numpy as np\nimport seaborn as sns\nfrom hyppo.independence import HHG, MGC, Dcorr\nfrom hyppo.ksample import MMD\nfrom hyppo.tools import linear\n\nsys.path.append(os.path.realpath(\"..\"))\n\n# make plots look pretty\nsns.set(color_codes=True, style=\"white\", context=\"talk\", font_scale=1)\nPALETTE = sns.color_palette(\"Set1\")\nsns.set_palette(PALETTE[1:])\n\n# constants\nN = [50, 100, 200, 500, 1000, 2000, 5000, 10000]  # sample sizes\nFONTSIZE = 20\n\n# tests\nTESTS = {\"indep\": [Dcorr, MGC, HHG], \"ksample\": [MMD], \"fast\": [Dcorr]}\n\n\n# function runs wall time estimates using timeit (for python)\ndef estimate_wall_times(test_type, tests, **kwargs):\n    for test in tests:\n        times = []\n        for n in N:\n            x, y = linear(n, 1, noise=True)\n            # numba is a JIT compiler, run code to cache first, then time\n            _ = test().test(x, y, workers=-1, **kwargs)\n            start_time = timeit.default_timer()\n            _ = test().test(x, y, workers=-1, **kwargs)\n            times.append(timeit.default_timer() - start_time)\n        np.savetxt(\n            \"../benchmarks/perf/{}_{}.csv\".format(test_type, test.__name__),\n            times,\n            delimiter=\",\",\n        )\n    return times\n\n\n# compute wall times, uncomment to recompute\n# kwargs = {}\n# for test_type in TESTS.keys():\n#     if test_type == \"fast\":\n#         kwargs[\"auto\"] = True\n#     estimate_wall_times(test_type, TESTS[test_type], **kwargs)\n\n# Dictionary of test colors and labels\nTEST_METADATA = {\n    \"MGC\": {\"test_name\": \"MGC (hyppo)\", \"color\": \"#e41a1c\"},\n    \"HHG\": {\"test_name\": \"HHG (hyppo)\", \"color\": \"#4daf4a\"},\n    \"Dcorr\": {\"test_name\": \"Dcorr (hyppo)\", \"color\": \"#377eb8\"},\n    \"ksample_Hsic\": {\"test_name\": \"MMD (hyppo)\", \"color\": \"#ff7f00\"},\n    \"fast_Dcorr\": {\"test_name\": \"Fast 1D Dcorr (hyppo)\", \"color\": \"#984ea3\"},\n    \"HHG_hhg\": {\"test_name\": \"HHG (HHG)\", \"color\": \"#4daf4a\"},\n    \"Dcorr_energy\": {\"test_name\": \"Dcorr (energy)\", \"color\": \"#377eb8\"},\n    \"Dcorr_kernlab\": {\"test_name\": \"MMD (kernlab)\", \"color\": \"#ff7f00\"},\n}\n\n\ndef plot_wall_times():\n    _ = plt.figure(figsize=(10, 10))\n    ax = plt.subplot(111)\n\n    i = 0\n    kwargs = {}\n    for file_name, metadata in TEST_METADATA.items():\n        test_times = np.genfromtxt(\n            \"../benchmarks/perf/{}.csv\".format(file_name), delimiter=\",\"\n        )\n\n        if file_name in [\"HHG_hhg\", \"Dcorr_energy\", \"Dcorr_kernlab\"]:\n            kwargs = {\"linestyle\": \"dashed\"}\n        ax.plot(\n            N,\n            test_times,\n            color=metadata[\"color\"],\n            label=metadata[\"test_name\"],\n            lw=5,\n            **kwargs\n        )\n        i += 1\n\n    ax.spines[\"top\"].set_visible(False)\n    ax.spines[\"right\"].set_visible(False)\n    ax.set_xlabel(\"Number of Samples\")\n    ax.set_ylabel(\"Execution Time\\n(Seconds)\")\n    ax.set_xscale(\"log\")\n    ax.set_yscale(\"log\")\n    ax.set_xticks([1e2, 1e3, 1e4])\n    ax.set_yticks([1e-4, 1e-2, 1e0, 1e2, 1e4])\n\n    leg = plt.legend(\n        bbox_to_anchor=(0.5, 0.95),\n        bbox_transform=plt.gcf().transFigure,\n        ncol=2,\n        loc=\"upper center\",\n    )\n    leg.get_frame().set_linewidth(0.0)\n    for legobj in leg.legendHandles:\n        legobj.set_linewidth(5.0)\n\n\n# plot the wall times\nplot_wall_times()"
      ]
    },
    {
      "cell_type": "markdown",
      "metadata": {},
      "source": [
        "The following shows the code that was used to compute the R test statistics.\nCertain lines were commented out depending on whether or not they were useful.\n\n.. code-block::\n\n   rm(list=ls())\n\n   require(\"energy\")\n   require(\"kernlab\")\n   require(\"mgc\")\n   require(\"HHG\")\n   require(\"microbenchmark\")\n\n   num_samples_range = c(50, 100, 200, 500, 1000, 2000, 5000, 10000)\n   linear_data <- list()\n   i <- 1\n   for (num_samples in num_samples_range){\n     data <- mgc.sims.linear(num_samples, 1)\n     x <- data$X\n     y <- data$Y\n     times = seq(1, 3, by=1)\n     executions <- list()\n     for (t in times){\n       # x <- as.matrix(dist((x), diag = TRUE, upper = TRUE))\n       # y <- as.matrix(dist((y), diag = TRUE, upper = TRUE))\n\n       # best of 5 executions\n       # time <- microbenchmark(kmmd(x, y, ntimes=1000), times=1, unit=\"secs\")\n       # time <- microbenchmark(dcor.test(x, y, R=1000), times=1, unit=\"secs\")\n       # time <- microbenchmark(dcor.test(x, y, R=1000), times=1, unit=\"secs\")\n       time <- microbenchmark(dcor2d(x, y), times=1, unit=\"secs\")\n       # time <- microbenchmark(hhg.test(x, y, nr.perm=1000), times=1, unit=\"secs\")\n       executions <- c(executions, list(time[1, 2]/(10^9)))\n     }\n     linear_data <- c(linear_data, list(sapply(executions, mean)))\n\n     print(\"Finished\")\n     i <- i + 1\n   }\n\n   df <- data.frame(\n      matrix(unlist(linear_data), nrow=length(linear_data), byrow=T),\n      stringsAsFactors=FALSE\n    )\n   write.csv(df, row.names=FALSE)\n\n"
      ]
    }
  ],
  "metadata": {
    "kernelspec": {
      "display_name": "Python 3",
      "language": "python",
      "name": "python3"
    },
    "language_info": {
      "codemirror_mode": {
        "name": "ipython",
        "version": 3
      },
      "file_extension": ".py",
      "mimetype": "text/x-python",
      "name": "python",
      "nbconvert_exporter": "python",
      "pygments_lexer": "ipython3",
      "version": "3.8.5"
    }
  },
  "nbformat": 4,
  "nbformat_minor": 0
}