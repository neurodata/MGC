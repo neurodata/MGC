{
  "cells": [
    {
      "cell_type": "code",
      "execution_count": null,
      "metadata": {
        "collapsed": false
      },
      "outputs": [],
      "source": [
        "%matplotlib inline"
      ]
    },
    {
      "cell_type": "markdown",
      "metadata": {},
      "source": [
        "\n# 1D Independence Testing Power vs. Sample Size\n\nHere, we show finite testing power comparisons between the various tests within hyppo.\nFor a test to be consistent, we would expect power to converge to 1 as sample size\nincreases. Tests that converge to 1 quicker have higher finite testing power and\nare likely better to use for your use case. The simulation in the bottom right is\nused so that we know that we are properly controlling for type I error, which is\nimportant becase otherwise the test would be invalid (power = alpha-level = 0.05).\n"
      ]
    },
    {
      "cell_type": "code",
      "execution_count": null,
      "metadata": {
        "collapsed": false
      },
      "outputs": [],
      "source": [
        "import os\nimport sys\n\nimport matplotlib.pyplot as plt\nimport numpy as np\nimport seaborn as sns\nfrom hyppo.independence import INDEP_TESTS\nfrom hyppo.tools import SIMULATIONS, power\nfrom joblib import Parallel, delayed\n\nsys.path.append(os.path.realpath(\"..\"))\n\n# make plots look pretty\nsns.set(color_codes=True, style=\"white\", context=\"talk\", font_scale=2)\nPALETTE = sns.color_palette(\"Set1\")\nsns.set_palette(PALETTE[1:])\n\n# constants\nMAX_SAMPLE_SIZE = 100\nSTEP_SIZE = 5\nSAMP_SIZES = range(5, MAX_SAMPLE_SIZE + STEP_SIZE, STEP_SIZE)\nPOWER_REPS = 5\n\n# simulation titles\nSIM_TITLES = [\n    \"Linear\",\n    \"Exponential\",\n    \"Cubic\",\n    \"Joint Normal\",\n    \"Step\",\n    \"Quadratic\",\n    \"W-Shaped\",\n    \"Spiral\",\n    \"Bernoulli\",\n    \"Logarithmic\",\n    \"Fourth Root\",\n    \"Sine 4\\u03C0\",\n    \"Sine 16\\u03C0\",\n    \"Square\",\n    \"Two Parabolas\",\n    \"Circle\",\n    \"Ellipse\",\n    \"Diamond\",\n    \"Noise\",\n    \"Independence\",\n]\n\n# these tests only make sense for > 1 dimension data\nremove = [\"maxmargin\", \"kmerf\"]\nINDEP_TESTS = dict([(k, v) for k, v in INDEP_TESTS.items() if k not in remove])\n\n\ndef estimate_power(sim, test, auto=False):\n    \"\"\"Compute the mean of the estimated power of 5 replications over sample sizes.\"\"\"\n    if test == \"MaxMargin\":\n        test = [\"MaxMargin\", \"Dcorr\"]\n    est_power = np.array(\n        [\n            np.mean(\n                [\n                    power(\n                        test, pow_type=\"indep\", sim=sim, n=i, p=1, auto=auto, noise=True\n                    )\n                    for _ in range(POWER_REPS)\n                ]\n            )\n            for i in SAMP_SIZES\n        ]\n    )\n    np.savetxt(\n        \"../benchmarks/vs_samplesize/{}_{}.csv\".format(sim, test),\n        est_power,\n        delimiter=\",\",\n    )\n\n    return est_power\n\n\n# At this point, we would run this bit of code to generate the data for the figure and\n# store it under the \"vs_sampsize\" directory. Since this code takes a very long time,\n# we have commented out these lines of codes. If you would like to generate the data,\n# uncomment these lines and run the file.\n#\n# outputs = Parallel(n_jobs=-1, verbose=100)(\n#     [\n#         delayed(estimate_featimport)(sim_name, test)\n#         for sim_name in SIMULATIONS.keys()\n#         for test in INDEP_TESTS.keys()\n#     ]\n# )\n\n\ndef plot_power():\n    fig, ax = plt.subplots(nrows=4, ncols=5, figsize=(25, 20))\n    plt.suptitle(\n        \"Multivariate Independence Testing (Increasing Sample Size)\",\n        y=0.93,\n        va=\"baseline\",\n    )\n\n    for i, row in enumerate(ax):\n        for j, col in enumerate(row):\n            count = 5 * i + j\n            sim = list(SIMULATIONS.keys())[count]\n\n            for test in INDEP_TESTS.keys():\n                est_power = np.genfromtxt(\n                    \"../benchmarks/vs_samplesize/{}_{}.csv\".format(sim, test),\n                    delimiter=\",\",\n                )\n\n                col.plot(SAMP_SIZES, est_power, label=INDEP_TESTS[test].__name__, lw=2)\n                col.set_xticks([])\n                if i == 3:\n                    col.set_xticks([SAMP_SIZES[0], SAMP_SIZES[-1]])\n                col.set_ylim(-0.05, 1.05)\n                col.set_yticks([])\n                if j == 0:\n                    col.set_yticks([0, 1])\n                col.set_title(SIM_TITLES[count])\n\n    fig.text(0.5, 0.05, \"Sample Size\", ha=\"center\")\n    fig.text(\n        0.07,\n        0.5,\n        \"Statistical Power\",\n        va=\"center\",\n        rotation=\"vertical\",\n    )\n    leg = plt.legend(\n        bbox_to_anchor=(0.5, 0.05),\n        bbox_transform=plt.gcf().transFigure,\n        ncol=len(INDEP_TESTS.keys()),\n        loc=\"upper center\",\n    )\n    leg.get_frame().set_linewidth(0.0)\n    for legobj in leg.legendHandles:\n        legobj.set_linewidth(5.0)\n    plt.subplots_adjust(hspace=0.50)\n\n\n# plot the power\nplot_power()"
      ]
    }
  ],
  "metadata": {
    "kernelspec": {
      "display_name": "Python 3",
      "language": "python",
      "name": "python3"
    },
    "language_info": {
      "codemirror_mode": {
        "name": "ipython",
        "version": 3
      },
      "file_extension": ".py",
      "mimetype": "text/x-python",
      "name": "python",
      "nbconvert_exporter": "python",
      "pygments_lexer": "ipython3",
      "version": "3.8.5"
    }
  },
  "nbformat": 4,
  "nbformat_minor": 0
}