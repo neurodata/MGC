{
  "cells": [
    {
      "cell_type": "code",
      "execution_count": null,
      "metadata": {
        "collapsed": false
      },
      "outputs": [],
      "source": [
        "%matplotlib inline"
      ]
    },
    {
      "cell_type": "markdown",
      "metadata": {},
      "source": [
        "\n# Comparisons of Test Statistics\n\nThere are few implementations in :mod:`hyppo.independence` the have implementations\nin R. Here, we compare the test statistics between the R-generated values and our\npackage values. As you can see, there is a minimum difference between test statistics.\n"
      ]
    },
    {
      "cell_type": "code",
      "execution_count": null,
      "metadata": {
        "collapsed": false
      },
      "outputs": [],
      "source": [
        "import os\nimport sys\n\nimport matplotlib.pyplot as plt\nimport matplotlib.ticker as mticker\nimport numpy as np\nimport pandas as pd\nimport seaborn as sns\nfrom hyppo.independence import HHG, Dcorr\nfrom hyppo.ksample import MMD\nfrom hyppo.tools import rot_ksamp, spiral\n\nsys.path.append(os.path.realpath(\"..\"))\n\n# make plots look pretty\nsns.set(color_codes=True, style=\"white\", context=\"talk\", font_scale=1)\nPALETTE = sns.color_palette(\"Set1\")\nsns.set_palette(PALETTE[1:])\n\n# constants\nN = 100  # number of replications to show\nFONTSIZE = 20\n\n# tests\nTESTS = {\n    \"Dcorr\": Dcorr,\n    \"MMD\": MMD,\n    \"HHG\": HHG,\n}\n\n\n# generate the simulations, uncomment this code to regenerate\n# for i in range(N):\n#     x, y = spiral(1000, 1, noise=True)\n#     sim = np.hstack([x, y])\n#     np.savetxt(\"../benchmarks/same_stat/indep/{}.csv\".format(i + 1), sim, delimiter=\",\")\n#     sim1, sim2 = rot_ksamp(\"spiral\", 200, 1, noise=True)\n#     np.savetxt(\n#         \"../benchmarks/same_stat/ksample/sim1_{}.csv\".format(i + 1), sim, delimiter=\",\"\n#     )\n#     np.savetxt(\n#         \"../benchmarks/same_stat/ksample/sim2_{}.csv\".format(i + 1), sim, delimiter=\",\"\n#     )\n\n\n# compute test statistics, uncomment to recompute\n# for key, test in TESTS.items():\n#     stats = []\n#     for i in range(N):\n#         if key == \"MMD\":\n#             sim1 = np.genfromtxt(\n#                 \"../benchmarks/same_stat/ksample/sim1_{}.csv\".format(i + 1),\n#                 delimiter=\",\",\n#             )\n#             sim2 = np.genfromtxt(\n#                 \"../benchmarks/same_stat/ksample/sim2_{}.csv\".format(i + 1),\n#                 delimiter=\",\",\n#             )\n#             stat = test(bias=True).statistic(sim1, sim2)\n#         else:\n#             sim = np.genfromtxt(\n#                 \"../benchmarks/same_stat/indep/{}.csv\".format(i + 1), delimiter=\",\"\n#             )\n#             x, y = np.hsplit(sim, 2)\n#             stat = test().statistic(x, y)\n#         stats.append(stat)\n#     np.savetxt(\"../benchmarks/same_stat/{}.csv\".format(key), stats, delimiter=\",\")\n\n\ndef plot_stats():\n    _ = plt.figure(figsize=(5, 10))\n    ax = plt.subplot(111)\n\n    test_names = list(TESTS.keys())\n    data = np.zeros((N, len(test_names)))\n    for i in range(len(test_names)):\n        if test_names[i] == \"MMD\":\n            hyppo_stat = np.genfromtxt(\"../benchmarks/same_stat/MMD.csv\", delimiter=\",\")\n            r_stat = np.genfromtxt(\"../benchmarks/same_stat/RMMD.csv\", delimiter=\",\")\n        else:\n            hyppo_stat = np.genfromtxt(\n                \"../benchmarks/same_stat/{}.csv\".format(test_names[i]), delimiter=\",\"\n            )\n            r_stat = np.genfromtxt(\n                \"../benchmarks/same_stat/R{}.csv\".format(test_names[i]), delimiter=\",\"\n            )\n            if (\n                test_names[i] == \"HHG\"\n            ):  # Fix for large HHG stats so difference is comparable\n                hyppo_stat *= 1e-8\n                r_stat *= 1e-8\n        data[:, i] = np.abs(hyppo_stat) - np.abs(r_stat)\n\n    data = pd.DataFrame(data=data, columns=test_names)\n    sns.stripplot(\n        data=data,\n        edgecolor=\"gray\",\n        size=5,\n        palette=[\"#377eb8\", \"#ff7f00\", \"#4daf4a\"],\n        jitter=1,\n    )\n    ax.axhline(y=0, color=\"red\", linewidth=1)\n\n    ax.spines[\"top\"].set_visible(False)\n    ax.spines[\"right\"].set_visible(False)\n    ax.spines[\"bottom\"].set_visible(False)\n    ax.set_ylabel(\"Test Statistic\\nDifference\")\n    ax.set_ylim(-5e-4, 5e-4)\n    ax.set_yticks([-5e-4, 0, 5e-4])\n    f = mticker.ScalarFormatter(useOffset=False)\n    ax.yaxis.set_major_formatter(\n        mticker.FuncFormatter(\n            lambda x, pos: \"{}\".format(f._formatSciNotation(\"%1.1e\" % x))\n        )\n    )\n\n\n# plot the statistic differences\nplot_stats()"
      ]
    },
    {
      "cell_type": "markdown",
      "metadata": {},
      "source": [
        "The following shows the code that was used to compute the R test statistics.\nCertain lines were commented out depending on whether or not they were useful.\n\n.. code-block::\n\n   rm(list=ls())\n\n   require(\"energy\")\n   require(\"kernlab\")\n   require(\"HHG\")\n   # change to your file path using setwd to same_stat/indep and same_stat/ksample\n   # filepath =\n\n   times = seq(1, 20, by=1)\n   statistics <- list()\n   for (t in times){\n     # df <- read.csv(paste(filepath, \"/\", t, \".csv\", sep=\"\"), sep=\",\")\n     df1 <- read.csv(paste(filepath, \"/sim1_\", t, \".csv\", sep=\"\"), sep=\",\")\n     df2 <- read.csv(paste(filepath, \"/sim2_\", t, \".csv\", sep=\"\"), sep=\",\")\n     # x <- df[, 1]\n     # y <- df[, 2]\n     x <- df1[,]\n     y <- df2[,]\n     # stat <- bcdcor(x, y)\n     # Dx = as.matrix(dist((x), diag = TRUE, upper = TRUE))\n     # Dy = as.matrix(dist((y), diag = TRUE, upper = TRUE))\n     # stat <- hhg.test(Dx, Dy, nr.perm=0)$sum.chisq\n     stat <- kmmd(x, y, ntimes=0)@mmdstats[2]\n     statistics <- c(statistics, list(stat))\n   }\n\n   df <- data.frame(matrix(unlist(statistics), nrow=length(statistics), byrow=T), stringsAsFactors=FALSE)\n   write.csv(df, row.names=FALSE)\n\n"
      ]
    }
  ],
  "metadata": {
    "kernelspec": {
      "display_name": "Python 3",
      "language": "python",
      "name": "python3"
    },
    "language_info": {
      "codemirror_mode": {
        "name": "ipython",
        "version": 3
      },
      "file_extension": ".py",
      "mimetype": "text/x-python",
      "name": "python",
      "nbconvert_exporter": "python",
      "pygments_lexer": "ipython3",
      "version": "3.8.5"
    }
  },
  "nbformat": 4,
  "nbformat_minor": 0
}